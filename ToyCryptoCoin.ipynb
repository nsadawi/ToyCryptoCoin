{
 "cells": [
  {
   "cell_type": "markdown",
   "metadata": {},
   "source": [
    "https://www.youtube.com/playlist?list=PLzvRQMJ9HDiTqZmbtFisdXFxul5k0F-Q4"
   ]
  },
  {
   "cell_type": "code",
   "execution_count": 1,
   "metadata": {},
   "outputs": [],
   "source": [
    "import hashlib\n",
    "from datetime import datetime"
   ]
  },
  {
   "cell_type": "markdown",
   "metadata": {},
   "source": [
    "## Part 1: A Simple Blockchain"
   ]
  },
  {
   "cell_type": "code",
   "execution_count": 84,
   "metadata": {},
   "outputs": [],
   "source": [
    "class Block:\n",
    "    def __init__(self, timestamp, data, previous_hash = ''):\n",
    "        self.timestamp = timestamp\n",
    "        self.data = str(data)\n",
    "        self.previous_hash = previous_hash\n",
    "        self.nonce = 0\n",
    "        self.blockhash = self.calculate_hash()\n",
    "        \n",
    "    def calculate_hash(self):\n",
    "        concat = self.previous_hash + self.timestamp + self.data + str(self.nonce)\n",
    "        return hashlib.sha224(concat.encode('utf-8')).hexdigest()\n",
    "    \n",
    "    def get_block_data(self):\n",
    "        return {\n",
    "            'timestamp': self.timestamp,\n",
    "            'data': self.data,\n",
    "            'previous_hash': self.previous_hash,\n",
    "            'hash': self.blockhash\n",
    "        }\n",
    "   \n",
    "\n",
    "class BlockChain:\n",
    "    def __init__(self):\n",
    "        self.chain = []\n",
    "        self.chain.append(self.create_genesis_block())\n",
    "\n",
    "    def create_genesis_block(self):\n",
    "        return Block(get_timestamp(), [\"Genesis Block\"], \"0\")\n",
    "    \n",
    "    def get_latest_block(self):\n",
    "        return self.chain[-1]\n",
    "    \n",
    "    def add_block(self, new_block):\n",
    "        new_block.previous_hash = self.get_latest_block().blockhash\n",
    "        new_block.blockhash = new_block.calculate_hash()\n",
    "        self.chain.append(new_block)\n",
    "        \n",
    "    def is_chain_valid(self):\n",
    "        for i in range(1, len(self.chain)):\n",
    "            current = self.chain[i]\n",
    "            previous = self.chain[i-1]\n",
    "            if current.blockhash != current.calculate_hash():\n",
    "                return False\n",
    "            if current.previous_hash != previous.blockhash:\n",
    "                return False\n",
    "        return True\n",
    "            \n",
    "\n",
    "def get_timestamp():\n",
    "    date = datetime.now()\n",
    "    # convert datetime to timestamp\n",
    "    timestamp = datetime.timestamp(date)\n",
    "    return str(timestamp)\n",
    "\n"
   ]
  },
  {
   "cell_type": "code",
   "execution_count": 80,
   "metadata": {},
   "outputs": [],
   "source": [
    "bc = BlockChain()\n",
    "d = {\n",
    "    'Name': 'Noureddin Sadawi',\n",
    "    \"Age\": 43\n",
    "}\n",
    "bc.add_block(Block(get_timestamp(), d))\n",
    "bc.add_block(Block(get_timestamp(), d))"
   ]
  },
  {
   "cell_type": "code",
   "execution_count": 81,
   "metadata": {},
   "outputs": [
    {
     "data": {
      "text/plain": [
       "True"
      ]
     },
     "execution_count": 81,
     "metadata": {},
     "output_type": "execute_result"
    }
   ],
   "source": [
    "bc.is_chain_valid()"
   ]
  },
  {
   "cell_type": "code",
   "execution_count": 82,
   "metadata": {},
   "outputs": [],
   "source": [
    "bc.chain[1].data = \"Koko\"\n",
    "bc.chain[1].blockhash = bc.chain[1].calculate_hash()"
   ]
  },
  {
   "cell_type": "code",
   "execution_count": 83,
   "metadata": {},
   "outputs": [
    {
     "data": {
      "text/plain": [
       "'dcac6995741a716884e5fc9b326a769921105ed573b70c1b40933311'"
      ]
     },
     "execution_count": 83,
     "metadata": {},
     "output_type": "execute_result"
    }
   ],
   "source": [
    "bc.chain[1].blockhash"
   ]
  },
  {
   "cell_type": "markdown",
   "metadata": {},
   "source": [
    "## Part 2: Proof of Work\n",
    "\n",
    "You have to prove that you have put in a lot of computing power into making a Block (this is called Mining).\n",
    "\n",
    "BitCoin: requires the hash of a block to begin with a certain number of 0's"
   ]
  },
  {
   "cell_type": "code",
   "execution_count": null,
   "metadata": {},
   "outputs": [],
   "source": []
  },
  {
   "cell_type": "code",
   "execution_count": 32,
   "metadata": {},
   "outputs": [],
   "source": [
    "class Block:\n",
    "    def __init__(self, timestamp, data, previous_hash = ''):\n",
    "        self.timestamp = timestamp\n",
    "        self.data = str(data)\n",
    "        self.previous_hash = previous_hash\n",
    "        self.nonce = 0\n",
    "        self.blockhash = self.calculate_hash()\n",
    "        \n",
    "    def calculate_hash(self):\n",
    "        concat = self.previous_hash + self.timestamp + self.data + str(self.nonce)\n",
    "        return hashlib.sha224(concat.encode('utf-8')).hexdigest()\n",
    "    \n",
    "    def mine_block(self, difficulty):\n",
    "        # here we see the benefit of the nonce, we increment it until we get the right hash\n",
    "        # this is because the hash can always be the same with the same block contents\n",
    "        while self.blockhash[:difficulty] != \"0\" * difficulty:\n",
    "            self.nonce = self.nonce + 1\n",
    "            self.blockhash = self.calculate_hash()\n",
    "    \n",
    "    def get_block_data(self):\n",
    "        return {\n",
    "            'timestamp': self.timestamp,\n",
    "            'data': self.data,\n",
    "            'previous_hash': self.previous_hash,\n",
    "            'hash': self.blockhash\n",
    "        }\n",
    "   \n",
    "\n",
    "class BlockChain:\n",
    "    def __init__(self, difficulty=2):\n",
    "        self.chain = []\n",
    "        self.chain.append(self.create_genesis_block())\n",
    "        self.difficulty = difficulty\n",
    "\n",
    "    def create_genesis_block(self):\n",
    "        return Block(get_timestamp(), [\"Genesis Block\"], \"0\")\n",
    "    \n",
    "    def get_latest_block(self):\n",
    "        return self.chain[-1]\n",
    "    \n",
    "    def add_block(self, new_block):\n",
    "        new_block.previous_hash = self.get_latest_block().blockhash\n",
    "        new_block.mine_block(self.difficulty)\n",
    "        #new_block.blockhash = new_block.calculate_hash()\n",
    "        self.chain.append(new_block)\n",
    "        \n",
    "    def is_chain_valid(self):\n",
    "        for i in range(1, len(self.chain)):\n",
    "            current = self.chain[i]\n",
    "            previous = self.chain[i-1]\n",
    "            if current.blockhash != current.calculate_hash():\n",
    "                return False\n",
    "            if current.previous_hash != previous.blockhash:\n",
    "                return False\n",
    "        return True\n",
    "            \n",
    "\n",
    "def get_timestamp():\n",
    "    date = datetime.now()\n",
    "    # convert datetime to timestamp\n",
    "    timestamp = datetime.timestamp(date)\n",
    "    return str(timestamp)\n",
    "\n"
   ]
  },
  {
   "cell_type": "code",
   "execution_count": 33,
   "metadata": {},
   "outputs": [],
   "source": [
    "bc = BlockChain(difficulty=4)\n",
    "d = {\n",
    "    'Name': 'Noureddin Sadawi',\n",
    "    \"Age\": 43\n",
    "}\n",
    "bc.add_block(Block(get_timestamp(), d))\n",
    "bc.add_block(Block(get_timestamp(), d))"
   ]
  },
  {
   "cell_type": "code",
   "execution_count": 34,
   "metadata": {},
   "outputs": [
    {
     "data": {
      "text/plain": [
       "'00000260150082384d8b5805701ef518f5c604548675610b8d5bc602'"
      ]
     },
     "execution_count": 34,
     "metadata": {},
     "output_type": "execute_result"
    }
   ],
   "source": [
    "bc.chain[1].blockhash"
   ]
  },
  {
   "cell_type": "markdown",
   "metadata": {},
   "source": [
    "## Part 3: Mining Rewards and Transactions\n",
    "1- Now a block can contain more than one transaction\n",
    "\n",
    "2- Add rewards for mining\n",
    "\n",
    "\n",
    "When you start a crypto-currency, you need to have virtual money or coins, you need to introduce them somewhere in the system so that users can get coins. Mining rewards steadily add new coins into the system."
   ]
  },
  {
   "cell_type": "code",
   "execution_count": 85,
   "metadata": {},
   "outputs": [],
   "source": [
    "class Transaction:\n",
    "    def __init__(self, from_address, to_address, amount):\n",
    "        self.from_address = from_address\n",
    "        self.to_address = to_address\n",
    "        self.amount = amount\n",
    "    \n",
    "class Block:\n",
    "    def __init__(self, timestamp, transactions, previous_hash = ''):\n",
    "        self.timestamp = timestamp\n",
    "        self.transactions = transactions\n",
    "        self.previous_hash = previous_hash\n",
    "        self.nonce = 0\n",
    "        self.blockhash = self.calculate_hash()\n",
    "        \n",
    "    def calculate_hash(self):\n",
    "        concat = self.previous_hash + self.timestamp + str(self.transactions) + str(self.nonce)\n",
    "        return hashlib.sha224(concat.encode('utf-8')).hexdigest()\n",
    "    \n",
    "    def mine_block(self, difficulty):\n",
    "        # here we see the benefit of the nonce, we increment it until we get the right hash\n",
    "        # this is because the hash can always be the same with the same block contents\n",
    "        while self.blockhash[:difficulty] != \"0\" * difficulty:\n",
    "            self.nonce = self.nonce + 1\n",
    "            self.blockhash = self.calculate_hash()\n",
    "    \n",
    "    def get_block_data(self):\n",
    "        return {\n",
    "            'timestamp': self.timestamp,\n",
    "            'transactions': self.transactions,\n",
    "            'previous_hash': self.previous_hash,\n",
    "            'hash': self.blockhash\n",
    "        }\n",
    "   \n",
    "\n",
    "class BlockChain:\n",
    "    def __init__(self, difficulty=2):\n",
    "        self.chain = []\n",
    "        self.chain.append(self.create_genesis_block())\n",
    "        self.difficulty = difficulty\n",
    "        self.pending_transactions = []\n",
    "        self.mining_reward = 100\n",
    "\n",
    "    def create_genesis_block(self):\n",
    "        return Block(get_timestamp(), [Transaction('','',0)], \"0\")\n",
    "\n",
    "    \n",
    "    def get_latest_block(self):\n",
    "        return self.chain[-1]\n",
    "    \n",
    "    #def add_block(self, new_block):\n",
    "    #    new_block.previous_hash = self.get_latest_block().blockhash\n",
    "    #    new_block.mine_block(self.difficulty)\n",
    "    #    #new_block.blockhash = new_block.calculate_hash()\n",
    "    #    self.chain.append(new_block)\n",
    "    def mine_pending_transactions(self, mining_reward_address):\n",
    "        # in a real crypto currency it's not practical to use all pending_transactions\n",
    "        # there is soooo many of them\n",
    "        # you might choose which ones to include\n",
    "        new_block = Block(get_timestamp(), self.pending_transactions)\n",
    "        new_block.mine_block(self.difficulty)\n",
    "        print('Block mined!')\n",
    "        self.chain.append(new_block)\n",
    "        # reset pending_transactions\n",
    "        self.pending_transactions = [\n",
    "            Transaction('', mining_reward_address, self.mining_reward)\n",
    "        ]\n",
    "    \n",
    "        \n",
    "    def create_transaction(self, transaction):\n",
    "        self.pending_transactions.append(transaction)\n",
    "        \n",
    "    def get_balance(self, address):\n",
    "        balance = 0\n",
    "        for b in self.chain:\n",
    "            for trans in b.transactions:\n",
    "                if trans.from_address == address:\n",
    "                    balance = balance - trans.amount\n",
    "                if trans.to_address == address:\n",
    "                    balance = balance + trans.amount\n",
    "        return balance\n",
    "        \n",
    "    def is_chain_valid(self):\n",
    "        for i in range(1, len(self.chain)):\n",
    "            current = self.chain[i]\n",
    "            previous = self.chain[i-1]\n",
    "            if current.blockhash != current.calculate_hash():\n",
    "                return False\n",
    "            if current.previous_hash != previous.blockhash:\n",
    "                return False\n",
    "        return True\n",
    "            \n",
    "\n",
    "def get_timestamp():\n",
    "    date = datetime.now()\n",
    "    # convert datetime to timestamp\n",
    "    timestamp = datetime.timestamp(date)\n",
    "    return str(timestamp)\n",
    "\n"
   ]
  },
  {
   "cell_type": "code",
   "execution_count": 86,
   "metadata": {},
   "outputs": [
    {
     "name": "stdout",
     "output_type": "stream",
     "text": [
      "<class 'list'>\n"
     ]
    }
   ],
   "source": [
    "bc = BlockChain()\n"
   ]
  },
  {
   "cell_type": "code",
   "execution_count": 87,
   "metadata": {},
   "outputs": [
    {
     "data": {
      "text/plain": [
       "[]"
      ]
     },
     "execution_count": 87,
     "metadata": {},
     "output_type": "execute_result"
    }
   ],
   "source": [
    "bc.pending_transactions"
   ]
  },
  {
   "cell_type": "code",
   "execution_count": 88,
   "metadata": {},
   "outputs": [],
   "source": [
    "## in reality address 1 and address 2 would be the public key of someone's wallet\n",
    "bc.create_transaction(Transaction('address1','address2',100))\n",
    "bc.create_transaction(Transaction('address2','address1',50))"
   ]
  },
  {
   "cell_type": "code",
   "execution_count": 89,
   "metadata": {},
   "outputs": [
    {
     "name": "stdout",
     "output_type": "stream",
     "text": [
      "<class 'list'>\n",
      "Block mined!\n"
     ]
    }
   ],
   "source": [
    "bc.mine_pending_transactions('noureddin')"
   ]
  },
  {
   "cell_type": "code",
   "execution_count": 90,
   "metadata": {},
   "outputs": [
    {
     "name": "stdout",
     "output_type": "stream",
     "text": [
      "<class '__main__.Block'>\n",
      "<class '__main__.Transaction'>\n",
      "<class '__main__.Block'>\n",
      "<class '__main__.Transaction'>\n",
      "<class '__main__.Transaction'>\n"
     ]
    },
    {
     "data": {
      "text/plain": [
       "0"
      ]
     },
     "execution_count": 90,
     "metadata": {},
     "output_type": "execute_result"
    }
   ],
   "source": [
    "bc.get_balance('noureddin')"
   ]
  },
  {
   "cell_type": "code",
   "execution_count": 91,
   "metadata": {},
   "outputs": [
    {
     "name": "stdout",
     "output_type": "stream",
     "text": [
      "<class 'list'>\n",
      "Block mined!\n"
     ]
    }
   ],
   "source": [
    "bc.mine_pending_transactions('noureddin')"
   ]
  },
  {
   "cell_type": "code",
   "execution_count": 92,
   "metadata": {},
   "outputs": [
    {
     "name": "stdout",
     "output_type": "stream",
     "text": [
      "<class '__main__.Block'>\n",
      "<class '__main__.Transaction'>\n",
      "<class '__main__.Block'>\n",
      "<class '__main__.Transaction'>\n",
      "<class '__main__.Transaction'>\n",
      "<class '__main__.Block'>\n",
      "<class '__main__.Transaction'>\n"
     ]
    },
    {
     "data": {
      "text/plain": [
       "100"
      ]
     },
     "execution_count": 92,
     "metadata": {},
     "output_type": "execute_result"
    }
   ],
   "source": [
    "bc.get_balance('noureddin')"
   ]
  },
  {
   "cell_type": "code",
   "execution_count": 1,
   "metadata": {},
   "outputs": [
    {
     "name": "stdout",
     "output_type": "stream",
     "text": [
      "Collecting pycoin\n",
      "  Downloading pycoin-0.91.20210515.tar.gz (340 kB)\n",
      "  Installing build dependencies: started\n",
      "  Installing build dependencies: finished with status 'done'\n",
      "  Getting requirements to build wheel: started\n",
      "  Getting requirements to build wheel: finished with status 'done'\n",
      "    Preparing wheel metadata: started\n",
      "    Preparing wheel metadata: finished with status 'done'\n",
      "Building wheels for collected packages: pycoin\n",
      "  Building wheel for pycoin (PEP 517): started\n",
      "  Building wheel for pycoin (PEP 517): finished with status 'done'\n",
      "  Created wheel for pycoin: filename=pycoin-0.91.20210515-py3-none-any.whl size=188924 sha256=c5da4e5b35569fee8c5e4a2918e81dd1628796d66855f8b7e59e74853131a213\n",
      "  Stored in directory: c:\\users\\gaming\\appdata\\local\\pip\\cache\\wheels\\eb\\0c\\55\\facd488ef94f6ac82da94b2b4a6648bc6ff3ca7fef634a535f\n",
      "Successfully built pycoin\n",
      "Installing collected packages: pycoin\n",
      "Successfully installed pycoin-0.91.20210515\n"
     ]
    }
   ],
   "source": [
    "!pip install pycoin"
   ]
  },
  {
   "cell_type": "markdown",
   "metadata": {},
   "source": [
    "## 4. Signing Transactions\n",
    "\n",
    "Needed for security\n",
    "* The problem with the current version is that anyone can make any transaction that they want.\n",
    "* Effectively you can spend coins that aren't yours.\n",
    "* To solve that we'll make it mandatory for transactions to be signed with a private and public key.\n",
    "* That way you can only spend coins in a wallet if you have its private key"
   ]
  },
  {
   "cell_type": "code",
   "execution_count": 88,
   "metadata": {},
   "outputs": [],
   "source": [
    "class Transaction:\n",
    "    ## Now we need to sign the transaction\n",
    "    # and we need a method to check if this signature is valid\n",
    "    ## we're going to sign the hash of the transaction\n",
    "    def __init__(self, from_address, to_address, amount):\n",
    "        self.from_address = from_address\n",
    "        self.to_address = to_address\n",
    "        self.amount = amount\n",
    "        self.signature = None\n",
    "    \n",
    "    def calculate_hash(self):\n",
    "        ## we're going to sign the hash of the transaction\n",
    "        ## Creates a SHA256 hash of the transaction\n",
    "        concat = self.from_address + self.to_address + str(self.amount)\n",
    "        return hashlib.sha224(concat.encode('utf-8')).hexdigest()\n",
    "    \n",
    "    \n",
    "    ## Signs a transaction with the given signingKey (which is an Elliptic keypair\n",
    "    ## object that contains a private key). The signature is then stored inside the\n",
    "    ## transaction object and later stored on the blockchain.\n",
    "    def sign_transaction(self, signing_key):\n",
    "        ## check if your public key == the from address\n",
    "        ## you can only spend coins from the wallet you have the private key of!\n",
    "        ## because the priv key is linked to the public key, that means the from add\n",
    "        ## in the transaction has to equal your public key\n",
    "        if signing_key.get_verifying_key().to_string().hex() != self.from_address:\n",
    "            raise ValueError('Error. You cannot sign transactions for other wallets!')\n",
    "        \n",
    "        ## Calculate the hash of this transaction, sign it with the key\n",
    "        ## and store it inside the transaction obect\n",
    "        trans_hash = self.calculate_hash()\n",
    "        signature = signing_key.sign(bytes(trans_hash.encode('utf-8')))\n",
    "        self.signature = signature\n",
    "        \n",
    "    ## Checks if the signature is valid (transaction has not been tampered with).\n",
    "    ## It uses the from_address as the public key.\n",
    "    def is_valid(self):\n",
    "        ## check if transaction has been correctly signed\n",
    "        if self.from_address == None: ## mining reward transaction (from_address is not filled in)\n",
    "            ## mining reward transactions are not signed but they are valid\n",
    "            return True\n",
    "        ## if transaction needs a signature, make sure there is a signature\n",
    "        ## (from_address is filled in)\n",
    "        ## You can only send a transaction from the wallet that is linked to your\n",
    "        ## key. So here we check if the from_address matches your publicKey\n",
    "        if (self.signature == None) or (len(self.signature) == 0):\n",
    "            raise ValueError('Error. No signature in this transaction!')\n",
    "        \n",
    "        ## check if transaction was signed with the correct key\n",
    "        ## remember the from_address is a public key\n",
    "        ## from https://www.py4u.net/discuss/164146\n",
    "        ## create a verification key from from_address (remember it's a public key)\n",
    "        \n",
    "        vk = ecdsa.VerifyingKey.from_string(bytes.fromhex(self.from_address), curve=ecdsa.SECP256k1)\n",
    "        ## we want to verify that the hash of this block has been signed by this signature\n",
    "        ##print(self.calculate_hash())\n",
    "        return vk.verify(self.signature, bytes(self.calculate_hash().encode('utf-8'))) # True or False\n",
    "\n",
    "class Block:\n",
    "    def __init__(self, timestamp, transactions, previous_hash = ''):\n",
    "        self.timestamp = timestamp\n",
    "        self.transactions = transactions\n",
    "        self.previous_hash = previous_hash\n",
    "        self.nonce = 0\n",
    "        self.blockhash = self.calculate_hash()\n",
    "        \n",
    "    ## Returns the SHA256 of this block (by processing all the data stored\n",
    "    ## inside this block)\n",
    "    def calculate_hash(self):\n",
    "        concat = self.previous_hash + self.timestamp + str(self.transactions) + str(self.nonce)\n",
    "        return hashlib.sha224(concat.encode('utf-8')).hexdigest()\n",
    "    \n",
    "    ## Starts the mining process on the block. It changes the 'nonce' until the hash\n",
    "    ## of the block starts with enough zeros (= difficulty)\n",
    "    def mine_block(self, difficulty):\n",
    "        # here we see the benefit of the nonce, we increment it until we get the right hash\n",
    "        # this is because the hash can always be the same with the same block contents\n",
    "        while self.blockhash[:difficulty] != \"0\" * difficulty:\n",
    "            self.nonce = self.nonce + 1\n",
    "            self.blockhash = self.calculate_hash()\n",
    "    \n",
    "    ## Get details of the this block\n",
    "    def get_block_data(self):\n",
    "        return {\n",
    "            'timestamp': self.timestamp,\n",
    "            'transactions': self.transactions,\n",
    "            'previous_hash': self.previous_hash,\n",
    "            'hash': self.blockhash\n",
    "        }\n",
    "    \n",
    "    ## Validates all the transactions inside this block (signature + hash) and\n",
    "    ## returns true if everything checks out. False if the block is invalid.\n",
    "    def has_valid_transactions(self):\n",
    "        ## verify all all transactions in the current block\n",
    "        ## iteratue thru all transactions in the current block\n",
    "        for trans in self.transactions:\n",
    "            if not trans.is_valid():\n",
    "                return False\n",
    "        return True\n",
    "    \n",
    "\n",
    "class BlockChain:\n",
    "    def __init__(self, difficulty=2):\n",
    "        self.chain = []\n",
    "        self.chain.append(self.create_genesis_block())\n",
    "        self.difficulty = difficulty\n",
    "        self.pending_transactions = []\n",
    "        self.mining_reward = 100\n",
    "\n",
    "    ## Create the very first block on the chain\n",
    "    def create_genesis_block(self):\n",
    "        return Block(get_timestamp(), [Transaction('','',0)], \"0\")\n",
    "\n",
    "    ## Returns the latest block on our chain. Useful when you want to create a\n",
    "    ## new Block and you need the hash of the previous Block.\n",
    "    def get_latest_block(self):\n",
    "        return self.chain[-1]\n",
    "    \n",
    "    #def add_block(self, new_block):\n",
    "    #    new_block.previous_hash = self.get_latest_block().blockhash\n",
    "    #    new_block.mine_block(self.difficulty)\n",
    "    #    #new_block.blockhash = new_block.calculate_hash()\n",
    "    #    self.chain.append(new_block)\n",
    "    \n",
    "    \n",
    "    ## Takes all the pending transactions, puts them in a Block and starts the\n",
    "    ## mining process. It also adds a transaction to send the mining reward to\n",
    "    ## the given address.\n",
    "    def mine_pending_transactions(self, mining_reward_address):\n",
    "        # in a real crypto currency it's not practical to use all pending_transactions\n",
    "        # there is soooo many of them\n",
    "        # you might choose which ones to include\n",
    "        \n",
    "        # reset pending_transactions\n",
    "        self.pending_transactions.append(\n",
    "            Transaction(None, mining_reward_address, self.mining_reward)\n",
    "        )\n",
    "        # create a new block by adding the pending_transactions and the hash of the latest block\n",
    "        new_block = Block(get_timestamp(), self.pending_transactions, self.get_latest_block().blockhash)\n",
    "        new_block.mine_block(self.difficulty)\n",
    "        # print('Block mined!')\n",
    "        self.chain.append(new_block)\n",
    "        self.pending_transactions = []\n",
    "        \n",
    "    \n",
    "    ## Add a new transaction to the list of pending transactions (to be added\n",
    "    ## next time the mining process starts). This verifies that the given\n",
    "    ## transaction is properly signed.\n",
    "    def add_transaction(self, transaction):\n",
    "        # we're not creating a transaction, we're receiving it and adding it to the pending_transactions list\n",
    "        if (transaction.from_address == None) or (transaction.to_address == None):\n",
    "            raise ValueError('Error. Transaction must have from and to addresses!')\n",
    "        # make sure transaction is valid (erify it)\n",
    "        if not transaction.is_valid():\n",
    "            raise ValueError('Error. Cannot add invalid transaction to the chain!')\n",
    "        \n",
    "        ## Making sure that the amount is > 0\n",
    "        if transaction.amount <= 0:\n",
    "            raise ValueError('Error. Transaction amount should be greater than 0!')\n",
    "            \n",
    "        ## Making sure that the amount sent is not greater than existing balance\n",
    "        #if self.get_balance(transaction.from_address) < transaction.amount:\n",
    "        #    print(self.get_balance(transaction.from_address))\n",
    "        #    print(transaction.amount)\n",
    "        #    raise ValueError('Error. Not enough balance!')\n",
    "          \n",
    "        self.pending_transactions.append(transaction)\n",
    "        \n",
    "        \n",
    "    ## Returns the balance of a given wallet address.    \n",
    "    def get_balance(self, address):\n",
    "        balance = 0\n",
    "        for b in self.chain:\n",
    "            for trans in b.transactions:\n",
    "                if trans.from_address == address:\n",
    "                    balance = balance - trans.amount\n",
    "                if trans.to_address == address:\n",
    "                    balance = balance + trans.amount\n",
    "        return balance\n",
    "        \n",
    "    ## Loops over all the blocks in the chain and verify if they are properly\n",
    "    ## linked together and nobody has tampered with the hashes. By checking\n",
    "    ## the blocks it also verifies the (signed) transactions inside of them.\n",
    "    def is_chain_valid(self):\n",
    "        ## TODO?: Check if the Genesis block hasn't been tampered with by comparing\n",
    "        ## the output of create_genesis_block with the first block on our chain??\n",
    "    \n",
    "        # Goes thru all blocks in the chain and verifies that the hashes are correct\n",
    "        # and each block links to the previous block\n",
    "        # we'll also need to verify that all the transactions in the current block are valid\n",
    "        for i in range(1, len(self.chain)):\n",
    "            #Check the remaining blocks on the chain to see if there hashes and\n",
    "            # signatures are correct\n",
    "            current = self.chain[i]\n",
    "            previous = self.chain[i-1]\n",
    "            \n",
    "            if not current.has_valid_transactions():\n",
    "                return False\n",
    "            \n",
    "            if current.blockhash != current.calculate_hash():\n",
    "                return False\n",
    "            if current.previous_hash != previous.calculate_hash():\n",
    "                return False\n",
    "        return True\n",
    "            \n",
    "## Returns a timestamp of NOW\n",
    "def get_timestamp():\n",
    "    date = datetime.now()\n",
    "    # convert datetime to timestamp\n",
    "    timestamp = datetime.timestamp(date)\n",
    "    return str(timestamp)\n",
    "\n"
   ]
  },
  {
   "cell_type": "code",
   "execution_count": 79,
   "metadata": {},
   "outputs": [],
   "source": [
    "#!pip install ecdsa"
   ]
  },
  {
   "cell_type": "code",
   "execution_count": 89,
   "metadata": {},
   "outputs": [],
   "source": [
    "import ecdsa\n",
    "import base64\n",
    "\n",
    "sk = ecdsa.SigningKey.generate(curve=ecdsa.SECP256k1) #this is your sign (private key)\n",
    "private_key = sk.to_string().hex() #convert your private key to hex\n",
    "vk = sk.get_verifying_key() #this is your verification key (public key)\n",
    "public_key = vk.to_string().hex()#this is the wallet address"
   ]
  },
  {
   "cell_type": "code",
   "execution_count": 90,
   "metadata": {},
   "outputs": [],
   "source": [
    "coin = BlockChain()\n",
    "\n",
    "tx1 = Transaction(public_key, 'someone else public key', 10)\n",
    "tx1.sign_transaction(sk)\n",
    "coin.add_transaction(tx1)\n",
    "coin.mine_pending_transactions(public_key)"
   ]
  },
  {
   "cell_type": "code",
   "execution_count": 91,
   "metadata": {},
   "outputs": [
    {
     "data": {
      "text/plain": [
       "90"
      ]
     },
     "execution_count": 91,
     "metadata": {},
     "output_type": "execute_result"
    }
   ],
   "source": [
    "coin.get_balance(public_key)"
   ]
  },
  {
   "cell_type": "code",
   "execution_count": 92,
   "metadata": {},
   "outputs": [
    {
     "data": {
      "text/plain": [
       "True"
      ]
     },
     "execution_count": 92,
     "metadata": {},
     "output_type": "execute_result"
    }
   ],
   "source": [
    "coin.is_chain_valid()"
   ]
  },
  {
   "cell_type": "code",
   "execution_count": 93,
   "metadata": {},
   "outputs": [
    {
     "data": {
      "text/plain": [
       "{'timestamp': '1632420235.080689',\n",
       " 'transactions': [<__main__.Transaction at 0x153d369c040>],\n",
       " 'previous_hash': '0',\n",
       " 'hash': '6d812d29361dfeb979d104768bcef1c4579c828ab9524429fdbe0386'}"
      ]
     },
     "execution_count": 93,
     "metadata": {},
     "output_type": "execute_result"
    }
   ],
   "source": [
    "(coin.chain[0].get_block_data())"
   ]
  },
  {
   "cell_type": "code",
   "execution_count": 94,
   "metadata": {},
   "outputs": [
    {
     "data": {
      "text/plain": [
       "'b59ac0b555218094314409e39f51ba56ee5ea475d2989c0cbfc33c1105a0c61f72bb2df7fb0f901137cf61303e81615046adb1be24b333bb768ff08d28e74d1b'"
      ]
     },
     "execution_count": 94,
     "metadata": {},
     "output_type": "execute_result"
    }
   ],
   "source": [
    "public_key"
   ]
  },
  {
   "cell_type": "code",
   "execution_count": 96,
   "metadata": {},
   "outputs": [
    {
     "name": "stdout",
     "output_type": "stream",
     "text": [
      "\n"
     ]
    }
   ],
   "source": [
    "print(coin.chain[0].transactions[0].to_address)"
   ]
  },
  {
   "cell_type": "code",
   "execution_count": null,
   "metadata": {},
   "outputs": [],
   "source": []
  }
 ],
 "metadata": {
  "kernelspec": {
   "display_name": "Python 3",
   "language": "python",
   "name": "python3"
  },
  "language_info": {
   "codemirror_mode": {
    "name": "ipython",
    "version": 3
   },
   "file_extension": ".py",
   "mimetype": "text/x-python",
   "name": "python",
   "nbconvert_exporter": "python",
   "pygments_lexer": "ipython3",
   "version": "3.8.5"
  }
 },
 "nbformat": 4,
 "nbformat_minor": 4
}
